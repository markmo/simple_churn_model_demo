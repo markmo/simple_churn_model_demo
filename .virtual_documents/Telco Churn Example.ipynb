get_ipython().getoutput("pip install anaml-client[plotting,pandas,google]==0.20.0")


get_ipython().getoutput("pip list")


import matplotlib.ticker as mtick # For specifying the axes tick format 
import matplotlib.pyplot as plt
import pandas as pd
import seaborn as sns

from anaml_client import Anaml


sns.set(style = 'white')


import warnings
warnings.filterwarnings('ignore')


client = Anaml('http://dev.anaml.app/api', 'eb958345-3257-4525-a143-7fa5ed969d36', 'UBPsDAJhw4nO7v6Cepmvcv3HQdu+O1CrAg0cPYPPmiU=')


client.get_feature_store_by_name('telco_churn_demo_schedule')


run = client.get_latest_feature_store_run_by_name('telco_churn_demo_schedule')


df = client.load_features_to_pandas(run)


df.head()


df.columns.values


df.dtypes


df.telco_customer_monthly_charges = pd.to_numeric(df.telco_customer_monthly_charges, errors='coerce')
df.telco_customer_total_charges = pd.to_numeric(df.telco_customer_total_charges, errors='coerce')
df.dtypes


df.isnull().sum()


# Remove rows with null values
df.dropna(inplace=True)


# Drop Customer ID and Date columns
df2 = df.iloc[:,2:]


# Automatically transform categorical variables into numeric features
df_dummies = pd.get_dummies(df2)
df_dummies.head(20)


# Plot features by correlation to Churn
plt.figure(figsize=(15,8))
df_dummies.corr()['telco_customer_did_churn'].sort_values(ascending=False).plot(kind='bar')


gender = client.get_feature_by_name('telco_customer_gender')
client.preview_feature(gender)


telco_customer_contract_type = client.get_feature_by_name('telco_customer_contract_type')
client.plot_feature_preview(telco_customer_contract_type)


df2 = pd.melt(df, id_vars=['customer_id'], value_vars=['telco_customer_has_dependents', 'telco_customer_has_partner'])
df3 = df2.groupby(['variable', 'value']).count().unstack()
df3 = df3 * 100 / len(df)
colors = ['#4D3425', '#E4512B']
ax = df3.loc[:,'customer_id'].plot.bar(stacked=True, color=colors,
                                       figsize=(8,6),rot=0,
                                       width=0.2)

ax.yaxis.set_major_formatter(mtick.PercentFormatter())
ax.set_ylabel('% Customers',size=14)
ax.set_xlabel('')
ax.set_title('% Customers with dependents and partners', size=14)
ax.legend(loc='center', prop={'size':14})

for p in ax.patches:
    width, height = p.get_width(), p.get_height()
    x, y = p.get_xy() 
    ax.annotate('{:.0f}%'.format(height), (p.get_x()+.25*width, p.get_y()+.4*height),
                color = 'white',
                weight= 'bold',
                size  = 14)


ax = sns.distplot(df['telco_customer_tenure'], hist=True, kde=False, 
                  bins=int(180/5), color='darkblue', 
                  hist_kws={'edgecolor':'black'},
                  kde_kws={'linewidth': 4})

ax.set_ylabel('# of Customers')
ax.set_xlabel('Tenure (months)')
ax.set_title('# of Customers by their tenure')


ax = df['telco_customer_contract_type'].value_counts().plot(kind='bar', rot=0, width=0.3)
ax.set_ylabel('# of Customers')
ax.set_title('# of Customers by Contract Type')


fig, (ax1, ax2, ax3) = plt.subplots(nrows=1, ncols=3, sharey=True, figsize=(20,6))

ax = sns.distplot(df[df['telco_customer_contract_type'] == 'Month-to-month']['telco_customer_tenure'],
                  hist=True, kde=False,
                  bins=int(180 / 5), color='turquoise',
                  hist_kws={'edgecolor':'black'},
                  kde_kws={'linewidth': 4},
                  ax=ax1)

ax.set_ylabel('# of Customers')
ax.set_xlabel('Tenure (months)')
ax.set_title('Month to Month Contract')

ax = sns.distplot(df[df['telco_customer_contract_type'] == 'One year']['telco_customer_tenure'],
                  hist=True, kde=False,
                  bins=int(180 / 5), color='steelblue',
                  hist_kws={'edgecolor':'black'},
                  kde_kws={'linewidth': 4},
                  ax=ax2)

ax.set_xlabel('Tenure (months)', size=14)
ax.set_title('One Year Contract', size=14)

ax = sns.distplot(df[df['telco_customer_contract_type']=='Two year']['telco_customer_tenure'],
                  hist=True, kde=False,
                  bins=int(180 / 5), color='darkblue',
                  hist_kws={'edgecolor':'black'},
                  kde_kws={'linewidth': 4},
                  ax=ax3)

ax.set_xlabel('Tenure (months)')
ax.set_title('Two Year Contract')


colors = ['#4D3425', '#E4512B']
ax = (df['telco_customer_did_churn'].value_counts() * 100.0 / len(df))\
    .plot(kind='bar', stacked=True, rot=0, color=colors, figsize=(8,6))

ax.yaxis.set_major_formatter(mtick.PercentFormatter())
ax.set_ylabel('% Customers', size=14)
ax.set_xlabel('Churn', size=14)
ax.set_title('Churn Rate', size=14)

# create a list to collect the plt.patches data
totals = []

# find the values and append to list
for i in ax.patches:
    totals.append(i.get_width())

# set individual bar lables using above list
total = sum(totals)

for i in ax.patches:
    # get_width pulls left or right; get_y pushes up or down
    ax.text(i.get_x() + .15, i.get_height() - 4.0, \
            str(round((i.get_height() / total), 1)) + '%',
            fontsize=12,
            color='white',
            weight='bold',
            size=14)


colors = ['#4D3425','#E4512B']
contract_churn = df.groupby(['telco_customer_contract_type', 'telco_customer_did_churn']).size().unstack()

ax = (contract_churn.T * 100.0 / contract_churn.T.sum()).T.plot(kind='bar',
                                                                width=0.3,
                                                                stacked=True,
                                                                rot=0, 
                                                                figsize=(10,6),
                                                                color=colors)

ax.yaxis.set_major_formatter(mtick.PercentFormatter())
ax.legend(loc='best', prop={'size':14}, title='Churn')
ax.set_ylabel('% Customers', size=14)
ax.set_title('Churn by Contract Type', size=14)

# Code to add the data labels on the stacked bar chart
for p in ax.patches:
    width, height = p.get_width(), p.get_height()
    x, y = p.get_xy()
    ax.annotate('{:.0f}%'.format(height), (p.get_x() + .25 * width, p.get_y() + .4 * height),
                color = 'white',
                weight= 'bold',
                size  = 14)


X = df_dummies.drop(columns=['telco_customer_did_churn'])
y = df_dummies['telco_customer_did_churn']


from sklearn import metrics
from sklearn.linear_model import LogisticRegression
from sklearn.model_selection import train_test_split
from sklearn.preprocessing import MinMaxScaler


features = X.columns.values
scaler = MinMaxScaler(feature_range=(0,1))
scaler.fit(X)
X = pd.DataFrame(scaler.transform(X))
X.columns = features


X_train, X_test, y_train, y_test = train_test_split(X, y, test_size=0.3, random_state=101)


model = LogisticRegression()
result = model.fit(X_train, y_train)


prediction_test = model.predict(X_test)

# Print the prediction accuracy
print (metrics.accuracy_score(y_test, prediction_test))


# Get the weights of the Top 10 variables
weights = pd.Series(model.coef_[0], index=X.columns.values)
print(weights.sort_values(ascending=False)[:10].plot(kind='bar'))


print(weights.sort_values(ascending=False)[-10:].plot(kind='bar'))



